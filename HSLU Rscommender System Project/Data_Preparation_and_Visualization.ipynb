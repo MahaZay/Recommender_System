{
  "cells": [
    {
      "cell_type": "markdown",
      "id": "7fb70fe3",
      "metadata": {
        "id": "7fb70fe3"
      },
      "source": [
        "# Recommender Systems"
      ]
    },
    {
      "cell_type": "markdown",
      "id": "531ef649",
      "metadata": {
        "id": "531ef649"
      },
      "source": [
        "\n",
        "In the Recommender Systems course, we were tasked with building a music recommendation system. Our data was sourced from the Kaggle competition at https://www.kaggle.com/c/dsg17-online-phase/.\n",
        "\n",
        "The objective was to employ a recommender system to estimate the likelihood of a song being listened to by a specific user. Initially, we delved into the dataset for deeper insights. Subsequently, we experimented with various recommender models and assessed their effectiveness. Finally, we chose and refined a model with the aim of competing for the top spot."
      ]
    },
    {
      "cell_type": "markdown",
      "id": "68f8afff",
      "metadata": {
        "id": "68f8afff"
      },
      "source": [
        "## 1. Loading the Libraries"
      ]
    },
    {
      "cell_type": "code",
      "execution_count": null,
      "id": "f6e0a4bf",
      "metadata": {
        "id": "f6e0a4bf"
      },
      "outputs": [],
      "source": [
        "\n",
        "import pandas as pd\n",
        "import numpy as np\n",
        "import datetime\n",
        "import seaborn as sns\n",
        "from matplotlib import pyplot as plt\n",
        "\n",
        "from surprise import Reader, Dataset, SVD as sp_SVD, KNNBasic, accuracy\n",
        "from surprise.model_selection import train_test_split, GridSearchCV\n",
        "from sklearn.metrics import precision_score as sk_precision_score, recall_score as sk_recall_score, f1_score as sk_f1_score\n",
        "from sklearn.metrics import mean_squared_error as sk_mean_squared_error\n",
        "\n",
        "\n",
        "\n"
      ]
    },
    {
      "cell_type": "markdown",
      "id": "04fe0445",
      "metadata": {
        "id": "04fe0445"
      },
      "source": [
        "## 2. Loading the Dataset"
      ]
    },
    {
      "cell_type": "markdown",
      "id": "459333c6",
      "metadata": {
        "id": "459333c6"
      },
      "source": [
        "### Data Source  "
      ]
    },
    {
      "cell_type": "markdown",
      "id": "ee8e4f6f",
      "metadata": {
        "id": "ee8e4f6f"
      },
      "source": [
        "\n",
        "https://www.kaggle.com/c/dsg17-online-phase/"
      ]
    },
    {
      "cell_type": "markdown",
      "id": "806ee1a1",
      "metadata": {
        "id": "806ee1a1"
      },
      "source": [
        "### Data fields\n"
      ]
    },
    {
      "cell_type": "markdown",
      "id": "7603adc3",
      "metadata": {
        "id": "7603adc3"
      },
      "source": [
        "* media_id: identifiant of the song listened by the user\n",
        "* album_id: identifiant of the album of the song\n",
        "* media_duration: duration of the song\n",
        "* user_gender: gender of the user\n",
        "* user_id: anonymized id of the user\n",
        "* context_type: type of content where the song was listened: playlist, album ...\n",
        "* release_date: release date of the song with the format YYYYMMDD\n",
        "* ts_listen: timestamp of the listening in UNIX time\n",
        "* platform_name: type of operating system\n",
        "* platform_family: type of device\n",
        "* user_age: age of the user\n",
        "* listen_type: if the songs was listened in a flow or not\n",
        "* artist_id: identifiant of the artist of the song\n",
        "* genre_id: identifiant of the genre of the song\n",
        "\n",
        "Variable of Interest\n",
        "\n",
        "* is_listened: 1 if the track was listened, 0 otherwise"
      ]
    },
    {
      "cell_type": "code",
      "execution_count": null,
      "id": "86e1ee2f",
      "metadata": {
        "colab": {
          "base_uri": "https://localhost:8080/",
          "height": 225
        },
        "id": "86e1ee2f",
        "outputId": "74bd22bd-6fe5-4e26-9d80-72fe57f32543"
      },
      "outputs": [
        {
          "data": {
            "text/html": [
              "<div>\n",
              "<style scoped>\n",
              "    .dataframe tbody tr th:only-of-type {\n",
              "        vertical-align: middle;\n",
              "    }\n",
              "\n",
              "    .dataframe tbody tr th {\n",
              "        vertical-align: top;\n",
              "    }\n",
              "\n",
              "    .dataframe thead th {\n",
              "        text-align: right;\n",
              "    }\n",
              "</style>\n",
              "<table border=\"1\" class=\"dataframe\">\n",
              "  <thead>\n",
              "    <tr style=\"text-align: right;\">\n",
              "      <th></th>\n",
              "      <th>genre_id</th>\n",
              "      <th>ts_listen</th>\n",
              "      <th>media_id</th>\n",
              "      <th>album_id</th>\n",
              "      <th>context_type</th>\n",
              "      <th>release_date</th>\n",
              "      <th>platform_name</th>\n",
              "      <th>platform_family</th>\n",
              "      <th>media_duration</th>\n",
              "      <th>listen_type</th>\n",
              "      <th>user_gender</th>\n",
              "      <th>user_id</th>\n",
              "      <th>artist_id</th>\n",
              "      <th>user_age</th>\n",
              "      <th>is_listened</th>\n",
              "    </tr>\n",
              "  </thead>\n",
              "  <tbody>\n",
              "    <tr>\n",
              "      <th>0</th>\n",
              "      <td>25471</td>\n",
              "      <td>1480597215</td>\n",
              "      <td>222606</td>\n",
              "      <td>41774</td>\n",
              "      <td>12</td>\n",
              "      <td>20040704</td>\n",
              "      <td>1</td>\n",
              "      <td>0</td>\n",
              "      <td>223</td>\n",
              "      <td>0</td>\n",
              "      <td>0</td>\n",
              "      <td>9241</td>\n",
              "      <td>55164</td>\n",
              "      <td>29</td>\n",
              "      <td>0</td>\n",
              "    </tr>\n",
              "    <tr>\n",
              "      <th>1</th>\n",
              "      <td>25571</td>\n",
              "      <td>1480544735</td>\n",
              "      <td>250467</td>\n",
              "      <td>43941</td>\n",
              "      <td>0</td>\n",
              "      <td>20060301</td>\n",
              "      <td>2</td>\n",
              "      <td>1</td>\n",
              "      <td>171</td>\n",
              "      <td>0</td>\n",
              "      <td>0</td>\n",
              "      <td>16547</td>\n",
              "      <td>55830</td>\n",
              "      <td>30</td>\n",
              "      <td>1</td>\n",
              "    </tr>\n",
              "    <tr>\n",
              "      <th>2</th>\n",
              "      <td>16</td>\n",
              "      <td>1479563953</td>\n",
              "      <td>305197</td>\n",
              "      <td>48078</td>\n",
              "      <td>1</td>\n",
              "      <td>20140714</td>\n",
              "      <td>2</td>\n",
              "      <td>1</td>\n",
              "      <td>149</td>\n",
              "      <td>1</td>\n",
              "      <td>1</td>\n",
              "      <td>7665</td>\n",
              "      <td>2704</td>\n",
              "      <td>29</td>\n",
              "      <td>1</td>\n",
              "    </tr>\n",
              "    <tr>\n",
              "      <th>3</th>\n",
              "      <td>7</td>\n",
              "      <td>1480152098</td>\n",
              "      <td>900502</td>\n",
              "      <td>71521</td>\n",
              "      <td>0</td>\n",
              "      <td>20001030</td>\n",
              "      <td>0</td>\n",
              "      <td>0</td>\n",
              "      <td>240</td>\n",
              "      <td>0</td>\n",
              "      <td>1</td>\n",
              "      <td>1580</td>\n",
              "      <td>938</td>\n",
              "      <td>30</td>\n",
              "      <td>0</td>\n",
              "    </tr>\n",
              "    <tr>\n",
              "      <th>4</th>\n",
              "      <td>7</td>\n",
              "      <td>1478368974</td>\n",
              "      <td>542335</td>\n",
              "      <td>71718</td>\n",
              "      <td>0</td>\n",
              "      <td>20080215</td>\n",
              "      <td>0</td>\n",
              "      <td>0</td>\n",
              "      <td>150</td>\n",
              "      <td>0</td>\n",
              "      <td>1</td>\n",
              "      <td>1812</td>\n",
              "      <td>2939</td>\n",
              "      <td>24</td>\n",
              "      <td>1</td>\n",
              "    </tr>\n",
              "  </tbody>\n",
              "</table>\n",
              "</div>"
            ],
            "text/plain": [
              "   genre_id   ts_listen  media_id  album_id  context_type  release_date  \\\n",
              "0     25471  1480597215    222606     41774            12      20040704   \n",
              "1     25571  1480544735    250467     43941             0      20060301   \n",
              "2        16  1479563953    305197     48078             1      20140714   \n",
              "3         7  1480152098    900502     71521             0      20001030   \n",
              "4         7  1478368974    542335     71718             0      20080215   \n",
              "\n",
              "   platform_name  platform_family  media_duration  listen_type  user_gender  \\\n",
              "0              1                0             223            0            0   \n",
              "1              2                1             171            0            0   \n",
              "2              2                1             149            1            1   \n",
              "3              0                0             240            0            1   \n",
              "4              0                0             150            0            1   \n",
              "\n",
              "   user_id  artist_id  user_age  is_listened  \n",
              "0     9241      55164        29            0  \n",
              "1    16547      55830        30            1  \n",
              "2     7665       2704        29            1  \n",
              "3     1580        938        30            0  \n",
              "4     1812       2939        24            1  "
            ]
          },
          "execution_count": 2,
          "metadata": {},
          "output_type": "execute_result"
        }
      ],
      "source": [
        "# Load Data\n",
        "def load_data(filepath):\n",
        "    df = pd.read_csv(filepath).sample(frac=0.1)  # Take only 10% of data for fast execution\n",
        "    return df\n",
        "\n",
        "df = pd.read_csv(\"/Users/elals/Downloads/train.csv\", encoding='latin-1')\n",
        "df.head()"
      ]
    },
    {
      "cell_type": "markdown",
      "id": "ef674ef3",
      "metadata": {
        "id": "ef674ef3"
      },
      "source": [
        "## 3. Data Transformation"
      ]
    },
    {
      "cell_type": "code",
      "execution_count": null,
      "id": "41bce730",
      "metadata": {
        "id": "41bce730",
        "outputId": "167f4595-cc9c-4ebd-a767-bc63476b4ad5"
      },
      "outputs": [
        {
          "data": {
            "text/plain": [
              "genre_id           0\n",
              "ts_listen          0\n",
              "media_id           0\n",
              "album_id           0\n",
              "context_type       0\n",
              "release_date       0\n",
              "platform_name      0\n",
              "platform_family    0\n",
              "media_duration     0\n",
              "listen_type        0\n",
              "user_gender        0\n",
              "user_id            0\n",
              "artist_id          0\n",
              "user_age           0\n",
              "is_listened        0\n",
              "dtype: int64"
            ]
          },
          "execution_count": 10,
          "metadata": {},
          "output_type": "execute_result"
        }
      ],
      "source": [
        "# Information about data types\n",
        "\n",
        "df.isna().sum()\n",
        "\n"
      ]
    },
    {
      "cell_type": "markdown",
      "id": "1b282364",
      "metadata": {
        "id": "1b282364"
      },
      "source": [
        "### release_date"
      ]
    },
    {
      "cell_type": "markdown",
      "id": "65b07c5c",
      "metadata": {
        "id": "65b07c5c"
      },
      "source": [
        "The \"release_date\" variable presented an anomaly, as it held a date set in the year 3000, which was obviously unrealistic. To rectify this, we needed to substitute it with the last date that was within a plausible range before this outlier."
      ]
    },
    {
      "cell_type": "code",
      "execution_count": null,
      "id": "8a73a720",
      "metadata": {
        "id": "8a73a720",
        "outputId": "9294d692-7a1f-4459-88c3-c22d551e0ddf"
      },
      "outputs": [
        {
          "data": {
            "image/png": "[encoded data removed]",
            "text/plain": [
              "<Figure size 1000x600 with 1 Axes>"
            ]
          },
          "metadata": {},
          "output_type": "display_data"
        }
      ],
      "source": [
        "# Boxplot\n",
        "Q1 = df['release_date'].quantile(0.25)\n",
        "Q3 = df['release_date'].quantile(0.75)\n",
        "IQR = Q3 - Q1\n",
        "lower_bound = Q1 - 1.5 * IQR\n",
        "upper_bound = Q3 + 1.5 * IQR\n",
        "outliers = df[(df['release_date'] < lower_bound) | (df['release_date'] > upper_bound)]\n",
        "\n",
        "# Create a box plot\n",
        "plt.figure(figsize=(10, 6))\n",
        "plt.boxplot(df['release_date'], vert=False, labels=['release_date'])\n",
        "plt.scatter(outliers['release_date'], [1] * len(outliers), color='red', label='Outliers')\n",
        "plt.title('Release Date Box Plot with Outliers')\n",
        "plt.legend()\n",
        "plt.show()\n"
      ]
    },
    {
      "cell_type": "markdown",
      "id": "bdec964b",
      "metadata": {
        "id": "bdec964b"
      },
      "source": [
        "### media_Id"
      ]
    },
    {
      "cell_type": "code",
      "execution_count": null,
      "id": "6d7607cd",
      "metadata": {
        "id": "6d7607cd",
        "outputId": "08170367-ddd4-4b78-d9fc-911439ae64d4"
      },
      "outputs": [
        {
          "name": "stdout",
          "output_type": "stream",
          "text": [
            "There are 452975 different songs in the dataset.\n"
          ]
        }
      ],
      "source": [
        "# Number of unique songs\n",
        "print(f'There are {df.media_id.nunique()} different songs in the dataset.')\n",
        "df['media_id'] = df['media_id'].astype(\"category\")"
      ]
    },
    {
      "cell_type": "markdown",
      "id": "fa3189e8",
      "metadata": {
        "id": "fa3189e8"
      },
      "source": [
        "### genre_id"
      ]
    },
    {
      "cell_type": "code",
      "execution_count": null,
      "id": "80d6e966",
      "metadata": {
        "id": "80d6e966",
        "outputId": "b79af6df-ae84-434e-f1f9-c1e4872620e0"
      },
      "outputs": [
        {
          "name": "stdout",
          "output_type": "stream",
          "text": [
            "There are 2922 different genres in the dataset.\n"
          ]
        }
      ],
      "source": [
        "# Number of unique genres\n",
        "print(f'There are {df.genre_id.nunique()} different genres in the dataset.')\n",
        "\n",
        "# Convert genre_id a categorical variable\n",
        "df['genre_id'] = df['genre_id'].astype(\"category\")"
      ]
    },
    {
      "cell_type": "markdown",
      "id": "47e7e82f",
      "metadata": {
        "id": "47e7e82f"
      },
      "source": [
        "### user_gender"
      ]
    },
    {
      "cell_type": "code",
      "execution_count": null,
      "id": "caed970f",
      "metadata": {
        "id": "caed970f",
        "outputId": "7e24b8fc-9470-4325-8d61-eed83986e982"
      },
      "outputs": [
        {
          "name": "stdout",
          "output_type": "stream",
          "text": [
            "There are 2 different user genders in the dataset.\n"
          ]
        }
      ],
      "source": [
        "print(f'There are {df.user_gender.nunique()} different user genders in the dataset.')\n",
        "\n",
        "# Convert user_gender a categorical variable\n",
        "df['user_gender'] = df['user_gender'].astype(\"category\")"
      ]
    },
    {
      "cell_type": "markdown",
      "id": "3969c334",
      "metadata": {
        "id": "3969c334"
      },
      "source": [
        "### album_id"
      ]
    },
    {
      "cell_type": "code",
      "execution_count": null,
      "id": "93392e23",
      "metadata": {
        "id": "93392e23",
        "outputId": "a531b9f8-dabc-40b6-e395-56c7a5e79c31"
      },
      "outputs": [
        {
          "name": "stdout",
          "output_type": "stream",
          "text": [
            "There are 151471 different albums in the dataset.\n"
          ]
        }
      ],
      "source": [
        "# Number of unique albums\n",
        "print(f'There are {df.album_id.nunique()} different albums in the dataset.')\n",
        "df['album_id'] = df['album_id'].astype(\"category\")"
      ]
    },
    {
      "cell_type": "markdown",
      "id": "28760ae0",
      "metadata": {
        "id": "28760ae0"
      },
      "source": [
        "### platform_name"
      ]
    },
    {
      "cell_type": "code",
      "execution_count": null,
      "id": "7054dd2c",
      "metadata": {
        "id": "7054dd2c",
        "outputId": "e463b788-fe5a-4073-9fab-22062347c69a"
      },
      "outputs": [
        {
          "name": "stdout",
          "output_type": "stream",
          "text": [
            "There are 3 different platforms in the dataset.\n"
          ]
        }
      ],
      "source": [
        "# Number of unique platforms\n",
        "print(f'There are {df.platform_name.nunique()} different platforms in the dataset.')\n",
        "\n",
        "# Convert platform_name a categorical variable\n",
        "df['platform_name'] = df['platform_name'].astype(\"category\")"
      ]
    },
    {
      "cell_type": "markdown",
      "id": "b2ac54fa",
      "metadata": {
        "id": "b2ac54fa"
      },
      "source": [
        "### platform_family"
      ]
    },
    {
      "cell_type": "code",
      "execution_count": null,
      "id": "16de9f6c",
      "metadata": {
        "id": "16de9f6c",
        "outputId": "aef0a72d-1afa-48f1-a109-19df70e6aa24"
      },
      "outputs": [
        {
          "name": "stdout",
          "output_type": "stream",
          "text": [
            "There are 3 different platform families in the dataset.\n"
          ]
        }
      ],
      "source": [
        "# Number of unique platform families\n",
        "print(f'There are {df.platform_family.nunique()} different platform families in the dataset.')\n",
        "# the meanings of the numbers are unknown\n",
        "\n",
        "# Convert platform_family a categorical variable\n",
        "df['platform_family'] = df['platform_family'].astype(\"category\")"
      ]
    },
    {
      "cell_type": "markdown",
      "id": "aa002f8f",
      "metadata": {
        "id": "aa002f8f"
      },
      "source": [
        "### listen_type"
      ]
    },
    {
      "cell_type": "code",
      "execution_count": null,
      "id": "de5ca4ea",
      "metadata": {
        "id": "de5ca4ea",
        "outputId": "72afed04-309b-4cd3-f820-f90acb6025cb"
      },
      "outputs": [
        {
          "name": "stdout",
          "output_type": "stream",
          "text": [
            "There are 2 different listen types in the dataset.\n"
          ]
        }
      ],
      "source": [
        "print(f'There are {df.listen_type.nunique()} different listen types in the dataset.')\n",
        "\n",
        "\n",
        "# Convert listen_type a categorical variable\n",
        "df['listen_type'] = df['listen_type'].astype(\"category\")"
      ]
    },
    {
      "cell_type": "markdown",
      "id": "0e9a8303",
      "metadata": {
        "id": "0e9a8303"
      },
      "source": [
        "### user_id"
      ]
    },
    {
      "cell_type": "code",
      "execution_count": null,
      "id": "a62e1605",
      "metadata": {
        "id": "a62e1605",
        "outputId": "a660a7c6-0a2b-4ee3-a708-5f68e7e860fe"
      },
      "outputs": [
        {
          "name": "stdout",
          "output_type": "stream",
          "text": [
            "There are 19918 different users in the dataset.\n"
          ]
        }
      ],
      "source": [
        "print(f'There are {df.user_id.nunique()} different users in the dataset.')\n",
        "\n",
        "# Convert user_id a categorical variable\n",
        "df['user_id'] = df['user_id'].astype(\"category\")"
      ]
    },
    {
      "cell_type": "markdown",
      "id": "cf371180",
      "metadata": {
        "id": "cf371180"
      },
      "source": [
        "### artist_id"
      ]
    },
    {
      "cell_type": "code",
      "execution_count": null,
      "id": "8c5dd52c",
      "metadata": {
        "id": "8c5dd52c",
        "outputId": "27aafa3a-7e54-4ba5-9b46-8189d1a0786c"
      },
      "outputs": [
        {
          "name": "stdout",
          "output_type": "stream",
          "text": [
            "There are 67142 different artists in the dataset.\n"
          ]
        }
      ],
      "source": [
        "print(f'There are {df.artist_id.nunique()} different artists in the dataset.')\n",
        "\n",
        "# Convert artist_id a categorical variable\n",
        "df['artist_id'] = df['artist_id'].astype(\"category\")"
      ]
    },
    {
      "cell_type": "markdown",
      "id": "dc118187",
      "metadata": {
        "id": "dc118187"
      },
      "source": [
        "### is_listened"
      ]
    },
    {
      "cell_type": "code",
      "execution_count": null,
      "id": "8ccdd729",
      "metadata": {
        "id": "8ccdd729",
        "outputId": "7b34d623-7a23-42bc-f914-79fc5c647c1d"
      },
      "outputs": [
        {
          "name": "stdout",
          "output_type": "stream",
          "text": [
            "The target variable \"is_listened\" takes 2 different values.\n"
          ]
        }
      ],
      "source": [
        "print(f'The target variable \"is_listened\" takes {df.is_listened.nunique()} different values.')\n",
        "\n",
        "# Convert is_listened a categorical variable\n",
        "df['is_listened'] = df['is_listened'].astype(\"category\")"
      ]
    },
    {
      "cell_type": "markdown",
      "id": "08210b66",
      "metadata": {
        "id": "08210b66"
      },
      "source": [
        "# 4. Exploratory Analysis"
      ]
    },
    {
      "cell_type": "markdown",
      "id": "c6f74b68",
      "metadata": {
        "id": "c6f74b68"
      },
      "source": [
        "## Size of the Dataset"
      ]
    },
    {
      "cell_type": "code",
      "execution_count": null,
      "id": "be434b43",
      "metadata": {
        "id": "be434b43",
        "outputId": "7c2ee4f3-34b0-48cc-b3f5-bdcb72e328b1"
      },
      "outputs": [
        {
          "data": {
            "text/plain": [
              "7558834"
            ]
          },
          "execution_count": 30,
          "metadata": {},
          "output_type": "execute_result"
        }
      ],
      "source": [
        "# Total number of records\n",
        "len(df)"
      ]
    },
    {
      "cell_type": "markdown",
      "id": "12e95f2e",
      "metadata": {
        "id": "12e95f2e"
      },
      "source": [
        "There are over 7.5 million songs in the train dataset."
      ]
    },
    {
      "cell_type": "markdown",
      "id": "358f9676",
      "metadata": {
        "id": "358f9676"
      },
      "source": [
        "## Users"
      ]
    },
    {
      "cell_type": "markdown",
      "id": "c1545086",
      "metadata": {
        "id": "c1545086"
      },
      "source": [
        "### Age"
      ]
    },
    {
      "cell_type": "code",
      "execution_count": null,
      "id": "38af038c",
      "metadata": {
        "id": "38af038c",
        "outputId": "08909f03-b81f-4ba5-835a-50b73e1ba182"
      },
      "outputs": [
        {
          "data": {
            "image/png": "[encoded data removed]",
            "text/plain": [
              "<Figure size 1000x500 with 1 Axes>"
            ]
          },
          "metadata": {},
          "output_type": "display_data"
        }
      ],
      "source": [
        "# Select and aggregate data and plot results\n",
        "\n",
        "def aggregate_user_age(df):\n",
        "    usr_age_agg = df[['user_id', 'user_age']].groupby('user_age').nunique().reset_index()\n",
        "    return usr_age_agg\n",
        "\n",
        "def plot_user_age_distribution(user_age_data):\n",
        "    plt.figure(figsize=(10,5))\n",
        "    gph = sns.barplot(x='user_age', y='user_id', data=user_age_data, color='blue')\n",
        "\n",
        "    plt.xlabel(\"Age\", size=16)\n",
        "    plt.ylabel(\"Number of Users\", size=16)\n",
        "    plt.title(\"User Age Distribution\", size=18)\n",
        "\n",
        "    ax = plt.gca()\n",
        "    ax.get_yaxis().set_visible(False)\n",
        "\n",
        "    for bar in gph.patches:\n",
        "        plt.text(bar.get_x() + bar.get_width() / 2, bar.get_height(),\n",
        "                 f'{int(bar.get_height()):,}', ha='center', va='bottom',\n",
        "                 size=10, color='black')\n",
        "\n",
        "    plt.show()\n",
        "\n",
        "# Usage\n",
        "usr_age_data = aggregate_user_age(df)\n",
        "plot_user_age_distribution(usr_age_data)\n"
      ]
    },
    {
      "cell_type": "markdown",
      "id": "84394f10",
      "metadata": {
        "id": "84394f10"
      },
      "source": [
        "### Gender"
      ]
    },
    {
      "cell_type": "code",
      "execution_count": null,
      "id": "87b5596e",
      "metadata": {
        "id": "87b5596e",
        "outputId": "2841b2a8-6c98-40ec-e89e-606b99948b6b"
      },
      "outputs": [
        {
          "data": {
            "image/png": "[encoded data removed]",
            "text/plain": [
              "<Figure size 1000x500 with 1 Axes>"
            ]
          },
          "metadata": {},
          "output_type": "display_data"
        }
      ],
      "source": [
        "# Select and aggregate data and plot results\n",
        "def aggregate_user_gender(df):\n",
        "    usr_gender_agg = df[['user_id', 'user_gender']].groupby('user_gender').nunique().reset_index()\n",
        "    return usr_gender_agg\n",
        "\n",
        "def plot_user_gender_distribution(user_gender_data):\n",
        "    plt.figure(figsize=(10,5))\n",
        "    gph = sns.barplot(x='user_gender', y='user_id', data=user_gender_data, color='blue')\n",
        "\n",
        "    plt.xlabel(\"Gender\", size=16)\n",
        "    plt.ylabel(\"Number of Users\", size=16)\n",
        "    plt.title(\"User Gender Distribution\", size=18)\n",
        "\n",
        "    ax = plt.gca()\n",
        "    ax.get_yaxis().set_visible(False)\n",
        "\n",
        "    gph.set_xticklabels(('Male', 'Women'))  # Change labels (0, 1 -> Man, Woman)\n",
        "\n",
        "    for bar in gph.patches:\n",
        "        plt.text(bar.get_x() + bar.get_width() / 2, bar.get_height(),\n",
        "                 f'{int(bar.get_height()):,}', ha='center', va='bottom',\n",
        "                 size=10, color='black')\n",
        "\n",
        "    plt.show()\n",
        "\n",
        "# Usage\n",
        "usr_gender_data = aggregate_user_gender(df)\n",
        "plot_user_gender_distribution(usr_gender_data)\n"
      ]
    },
    {
      "cell_type": "markdown",
      "id": "ceb745a1",
      "metadata": {
        "id": "ceb745a1"
      },
      "source": [
        "### Number of Users Per Weekday"
      ]
    },
    {
      "cell_type": "code",
      "execution_count": null,
      "id": "49c5133e",
      "metadata": {
        "id": "49c5133e",
        "outputId": "503e1f4a-46f2-47c0-fdaf-1db4a76616ba"
      },
      "outputs": [
        {
          "data": {
            "image/png": "[encoded data removed]",
            "text/plain": [
              "<Figure size 1000x500 with 1 Axes>"
            ]
          },
          "metadata": {},
          "output_type": "display_data"
        }
      ],
      "source": [
        "# Select and aggregate data and plot results\n",
        "def plot_weekday_user_count(df):\n",
        "    # Select and aggregate data\n",
        "    user_counts_by_weekday = df[['day_of_week', 'user_id']].groupby('day_of_week').nunique().reset_index()\n",
        "\n",
        "    # Plot results\n",
        "    plt.figure(figsize=(10,5))\n",
        "    gph = sns.barplot(x='day_of_week', y='user_id', data=user_counts_by_weekday, color='blue')\n",
        "\n",
        "    # Add labels\n",
        "    plt.xlabel(\"Day of Week\", size=16)\n",
        "    plt.ylabel(\"Number of Users\", size=16)\n",
        "\n",
        "    # Disable Y-axis\n",
        "    ax = plt.gca()\n",
        "    ax.get_yaxis().set_visible(False)\n",
        "\n",
        "    # Change labels (0,1,2,3,4,5,6 -> Monday, Tuesday, ...)\n",
        "    gph.set_xticklabels(['Monday', 'Tuesday', 'Wednesday', 'Thursday', 'Friday', 'Saturday', 'Sunday'])\n",
        "\n",
        "    # Add total per bar\n",
        "    for bar in gph.patches:\n",
        "        plt.text(bar.get_x() + bar.get_width() / 2, bar.get_height(),\n",
        "                 f'{int(bar.get_height()):,}', ha='center', va='bottom',\n",
        "                 size=10, color='black', weight='bold')\n",
        "\n",
        "    plt.show()\n",
        "\n",
        "# Usage\n",
        "df['ts_listen'] = pd.to_datetime(df['ts_listen'], unit='s')\n",
        "df['day_of_week'] = df['ts_listen'].dt.dayofweek\n",
        "\n",
        "plot_weekday_user_count(df)\n"
      ]
    },
    {
      "cell_type": "markdown",
      "id": "06c62d88",
      "metadata": {
        "id": "06c62d88"
      },
      "source": [
        "### Listening Time"
      ]
    },
    {
      "cell_type": "code",
      "execution_count": null,
      "id": "256246a4",
      "metadata": {
        "id": "256246a4",
        "outputId": "e71c6d1a-bdff-4d59-90e6-e9af7454d5b9"
      },
      "outputs": [
        {
          "data": {
            "image/png": "[encoded data removed]",
            "text/plain": [
              "<Figure size 1000x500 with 1 Axes>"
            ]
          },
          "metadata": {},
          "output_type": "display_data"
        }
      ],
      "source": [
        "# Select and aggregate data and plot results\n",
        "def plot_hourly_user_count(data):\n",
        "    # Extract and categorize hour listened\n",
        "    data['hour_listened'] = data['ts_listen'].dt.hour\n",
        "    data['hour_listened'] = data['hour_listened'].astype('category')\n",
        "\n",
        "    # Select and aggregate data\n",
        "    hourly_user_counts = data[['hour_listened', 'user_id']].groupby('hour_listened').count().reset_index()\n",
        "\n",
        "    # Plot results\n",
        "    plt.figure(figsize=(10,5))\n",
        "    gph = sns.barplot(x='hour_listened', y='user_id', data=hourly_user_counts, color='blue')\n",
        "\n",
        "    # Add labels\n",
        "    plt.xlabel(\"Hour\", size=16)\n",
        "    plt.ylabel(\"Number of Users\", size=16)\n",
        "\n",
        "    plt.show()\n",
        "\n",
        "df['ts_listen'] = pd.to_datetime(df['ts_listen'], unit='s')\n",
        "\n",
        "plot_hourly_user_count(df)\n"
      ]
    },
    {
      "cell_type": "markdown",
      "id": "17c12eed",
      "metadata": {
        "id": "17c12eed"
      },
      "source": [
        "### Music Duration"
      ]
    },
    {
      "cell_type": "code",
      "execution_count": null,
      "id": "bc947327",
      "metadata": {
        "id": "bc947327",
        "outputId": "01a39224-63fd-4a30-fc68-4236a3f9a1d2"
      },
      "outputs": [
        {
          "name": "stdout",
          "output_type": "stream",
          "text": [
            "Minimum duration: 0\n",
            "Maximum duration: 65535\n",
            "Mean duration: 231.2\n",
            "Quartiles: 0.25    196.0\n",
            "0.50    222.0\n",
            "0.75    254.0\n",
            "Name: media_duration, dtype: float64\n"
          ]
        }
      ],
      "source": [
        "# Minimum duration\n",
        "min_duration = df['media_duration'].min()\n",
        "print(f'Minimum duration: {min_duration}')\n",
        "\n",
        "# Maximum duration\n",
        "max_duration = df['media_duration'].max()\n",
        "print(f'Maximum duration: {max_duration}')\n",
        "\n",
        "# Mean duration\n",
        "mean_duration = round(df['media_duration'].mean(), 1)\n",
        "print(f'Mean duration: {mean_duration}')\n",
        "\n",
        "# Quartiles\n",
        "quartiles = df['media_duration'].quantile(q=(0.25, 0.5, 0.75))\n",
        "print(f'Quartiles: {quartiles}')\n"
      ]
    },
    {
      "cell_type": "markdown",
      "id": "1e279217",
      "metadata": {
        "id": "1e279217"
      },
      "source": [
        "# 5. Data Preparation"
      ]
    },
    {
      "cell_type": "code",
      "execution_count": null,
      "id": "fe29b31d",
      "metadata": {
        "id": "fe29b31d",
        "outputId": "764d0d3c-f5aa-4102-c60e-cf164be91c50"
      },
      "outputs": [
        {
          "name": "stdout",
          "output_type": "stream",
          "text": [
            "30000101\n",
            "20170313\n"
          ]
        },
        {
          "data": {
            "text/html": [
              "<div>\n",
              "<style scoped>\n",
              "    .dataframe tbody tr th:only-of-type {\n",
              "        vertical-align: middle;\n",
              "    }\n",
              "\n",
              "    .dataframe tbody tr th {\n",
              "        vertical-align: top;\n",
              "    }\n",
              "\n",
              "    .dataframe thead th {\n",
              "        text-align: right;\n",
              "    }\n",
              "</style>\n",
              "<table border=\"1\" class=\"dataframe\">\n",
              "  <thead>\n",
              "    <tr style=\"text-align: right;\">\n",
              "      <th></th>\n",
              "      <th>genre_id</th>\n",
              "      <th>ts_listen</th>\n",
              "      <th>media_id</th>\n",
              "      <th>album_id</th>\n",
              "      <th>context_type</th>\n",
              "      <th>release_date</th>\n",
              "      <th>platform_name</th>\n",
              "      <th>platform_family</th>\n",
              "      <th>media_duration</th>\n",
              "      <th>listen_type</th>\n",
              "      <th>...</th>\n",
              "      <th>user_listen_frequency</th>\n",
              "      <th>release_year</th>\n",
              "      <th>favorite_artist</th>\n",
              "      <th>recent_trend</th>\n",
              "      <th>release_month</th>\n",
              "      <th>season_of_release</th>\n",
              "      <th>album_loyalty</th>\n",
              "      <th>artist_loyalty</th>\n",
              "      <th>artist_album_interaction</th>\n",
              "      <th>day_of_week</th>\n",
              "    </tr>\n",
              "  </thead>\n",
              "  <tbody>\n",
              "    <tr>\n",
              "      <th>0</th>\n",
              "      <td>0</td>\n",
              "      <td>2016-11-01 06:42:11</td>\n",
              "      <td>123339574</td>\n",
              "      <td>12920172</td>\n",
              "      <td>0</td>\n",
              "      <td>20160422</td>\n",
              "      <td>0</td>\n",
              "      <td>2</td>\n",
              "      <td>316</td>\n",
              "      <td>0</td>\n",
              "      <td>...</td>\n",
              "      <td>6317</td>\n",
              "      <td>2016</td>\n",
              "      <td>400934</td>\n",
              "      <td>77</td>\n",
              "      <td>4</td>\n",
              "      <td>Spring</td>\n",
              "      <td>3.611778</td>\n",
              "      <td>5.237977</td>\n",
              "      <td>13382442833988</td>\n",
              "      <td>1</td>\n",
              "    </tr>\n",
              "    <tr>\n",
              "      <th>1</th>\n",
              "      <td>0</td>\n",
              "      <td>2016-11-01 06:42:41</td>\n",
              "      <td>131340580</td>\n",
              "      <td>13947748</td>\n",
              "      <td>0</td>\n",
              "      <td>20160902</td>\n",
              "      <td>0</td>\n",
              "      <td>2</td>\n",
              "      <td>224</td>\n",
              "      <td>0</td>\n",
              "      <td>...</td>\n",
              "      <td>6317</td>\n",
              "      <td>2016</td>\n",
              "      <td>400934</td>\n",
              "      <td>77</td>\n",
              "      <td>9</td>\n",
              "      <td>Autumn</td>\n",
              "      <td>3.611778</td>\n",
              "      <td>5.237977</td>\n",
              "      <td>60407752378992</td>\n",
              "      <td>1</td>\n",
              "    </tr>\n",
              "    <tr>\n",
              "      <th>2</th>\n",
              "      <td>0</td>\n",
              "      <td>2016-11-01 06:43:02</td>\n",
              "      <td>131576046</td>\n",
              "      <td>13976722</td>\n",
              "      <td>0</td>\n",
              "      <td>20160906</td>\n",
              "      <td>0</td>\n",
              "      <td>2</td>\n",
              "      <td>210</td>\n",
              "      <td>0</td>\n",
              "      <td>...</td>\n",
              "      <td>6317</td>\n",
              "      <td>2016</td>\n",
              "      <td>400934</td>\n",
              "      <td>77</td>\n",
              "      <td>9</td>\n",
              "      <td>Autumn</td>\n",
              "      <td>3.611778</td>\n",
              "      <td>5.237977</td>\n",
              "      <td>48485248618</td>\n",
              "      <td>1</td>\n",
              "    </tr>\n",
              "    <tr>\n",
              "      <th>3</th>\n",
              "      <td>0</td>\n",
              "      <td>2016-11-01 06:46:32</td>\n",
              "      <td>129011934</td>\n",
              "      <td>13640610</td>\n",
              "      <td>0</td>\n",
              "      <td>20160722</td>\n",
              "      <td>0</td>\n",
              "      <td>2</td>\n",
              "      <td>185</td>\n",
              "      <td>0</td>\n",
              "      <td>...</td>\n",
              "      <td>6317</td>\n",
              "      <td>2016</td>\n",
              "      <td>400934</td>\n",
              "      <td>77</td>\n",
              "      <td>7</td>\n",
              "      <td>Summer</td>\n",
              "      <td>3.611778</td>\n",
              "      <td>5.237977</td>\n",
              "      <td>3848261611980</td>\n",
              "      <td>1</td>\n",
              "    </tr>\n",
              "    <tr>\n",
              "      <th>4</th>\n",
              "      <td>0</td>\n",
              "      <td>2016-11-01 06:49:38</td>\n",
              "      <td>129632340</td>\n",
              "      <td>13726450</td>\n",
              "      <td>0</td>\n",
              "      <td>20160805</td>\n",
              "      <td>0</td>\n",
              "      <td>2</td>\n",
              "      <td>205</td>\n",
              "      <td>0</td>\n",
              "      <td>...</td>\n",
              "      <td>6317</td>\n",
              "      <td>2016</td>\n",
              "      <td>400934</td>\n",
              "      <td>77</td>\n",
              "      <td>8</td>\n",
              "      <td>Summer</td>\n",
              "      <td>3.611778</td>\n",
              "      <td>5.237977</td>\n",
              "      <td>6626553549100</td>\n",
              "      <td>1</td>\n",
              "    </tr>\n",
              "    <tr>\n",
              "      <th>...</th>\n",
              "      <td>...</td>\n",
              "      <td>...</td>\n",
              "      <td>...</td>\n",
              "      <td>...</td>\n",
              "      <td>...</td>\n",
              "      <td>...</td>\n",
              "      <td>...</td>\n",
              "      <td>...</td>\n",
              "      <td>...</td>\n",
              "      <td>...</td>\n",
              "      <td>...</td>\n",
              "      <td>...</td>\n",
              "      <td>...</td>\n",
              "      <td>...</td>\n",
              "      <td>...</td>\n",
              "      <td>...</td>\n",
              "      <td>...</td>\n",
              "      <td>...</td>\n",
              "      <td>...</td>\n",
              "      <td>...</td>\n",
              "      <td>...</td>\n",
              "    </tr>\n",
              "    <tr>\n",
              "      <th>7538911</th>\n",
              "      <td>7</td>\n",
              "      <td>2016-11-07 17:43:48</td>\n",
              "      <td>13277567</td>\n",
              "      <td>1216476</td>\n",
              "      <td>0</td>\n",
              "      <td>20110819</td>\n",
              "      <td>0</td>\n",
              "      <td>0</td>\n",
              "      <td>184</td>\n",
              "      <td>0</td>\n",
              "      <td>...</td>\n",
              "      <td>2</td>\n",
              "      <td>2011</td>\n",
              "      <td>6377</td>\n",
              "      <td>7</td>\n",
              "      <td>8</td>\n",
              "      <td>Summer</td>\n",
              "      <td>1.000000</td>\n",
              "      <td>1.000000</td>\n",
              "      <td>1802121607728</td>\n",
              "      <td>0</td>\n",
              "    </tr>\n",
              "    <tr>\n",
              "      <th>7538912</th>\n",
              "      <td>1106</td>\n",
              "      <td>2016-11-28 09:25:22</td>\n",
              "      <td>65800609</td>\n",
              "      <td>6450730</td>\n",
              "      <td>17</td>\n",
              "      <td>20130415</td>\n",
              "      <td>1</td>\n",
              "      <td>0</td>\n",
              "      <td>199</td>\n",
              "      <td>0</td>\n",
              "      <td>...</td>\n",
              "      <td>2</td>\n",
              "      <td>2013</td>\n",
              "      <td>4050205</td>\n",
              "      <td>1106</td>\n",
              "      <td>4</td>\n",
              "      <td>Spring</td>\n",
              "      <td>1.000000</td>\n",
              "      <td>1.000000</td>\n",
              "      <td>7452180029580</td>\n",
              "      <td>0</td>\n",
              "    </tr>\n",
              "    <tr>\n",
              "      <th>7538913</th>\n",
              "      <td>0</td>\n",
              "      <td>2016-11-26 12:31:38</td>\n",
              "      <td>132123626</td>\n",
              "      <td>14038232</td>\n",
              "      <td>3</td>\n",
              "      <td>20160916</td>\n",
              "      <td>1</td>\n",
              "      <td>0</td>\n",
              "      <td>190</td>\n",
              "      <td>0</td>\n",
              "      <td>...</td>\n",
              "      <td>2</td>\n",
              "      <td>2016</td>\n",
              "      <td>1519461</td>\n",
              "      <td>0</td>\n",
              "      <td>9</td>\n",
              "      <td>Autumn</td>\n",
              "      <td>2.000000</td>\n",
              "      <td>2.000000</td>\n",
              "      <td>21330546032952</td>\n",
              "      <td>5</td>\n",
              "    </tr>\n",
              "    <tr>\n",
              "      <th>7538914</th>\n",
              "      <td>27</td>\n",
              "      <td>2016-11-01 00:35:09</td>\n",
              "      <td>70227575</td>\n",
              "      <td>6888863</td>\n",
              "      <td>3</td>\n",
              "      <td>20130909</td>\n",
              "      <td>0</td>\n",
              "      <td>0</td>\n",
              "      <td>270</td>\n",
              "      <td>0</td>\n",
              "      <td>...</td>\n",
              "      <td>2</td>\n",
              "      <td>2013</td>\n",
              "      <td>11799</td>\n",
              "      <td>27</td>\n",
              "      <td>9</td>\n",
              "      <td>Autumn</td>\n",
              "      <td>1.000000</td>\n",
              "      <td>2.000000</td>\n",
              "      <td>81281694537</td>\n",
              "      <td>1</td>\n",
              "    </tr>\n",
              "    <tr>\n",
              "      <th>7538915</th>\n",
              "      <td>0</td>\n",
              "      <td>2016-11-01 07:27:36</td>\n",
              "      <td>102400504</td>\n",
              "      <td>10635938</td>\n",
              "      <td>3</td>\n",
              "      <td>20150615</td>\n",
              "      <td>0</td>\n",
              "      <td>0</td>\n",
              "      <td>216</td>\n",
              "      <td>0</td>\n",
              "      <td>...</td>\n",
              "      <td>2</td>\n",
              "      <td>2015</td>\n",
              "      <td>7912872</td>\n",
              "      <td>0</td>\n",
              "      <td>6</td>\n",
              "      <td>Summer</td>\n",
              "      <td>1.000000</td>\n",
              "      <td>1.000000</td>\n",
              "      <td>84160815993936</td>\n",
              "      <td>1</td>\n",
              "    </tr>\n",
              "  </tbody>\n",
              "</table>\n",
              "<p>7538916 rows × 29 columns</p>\n",
              "</div>"
            ],
            "text/plain": [
              "         genre_id           ts_listen   media_id  album_id  context_type  \\\n",
              "0               0 2016-11-01 06:42:11  123339574  12920172             0   \n",
              "1               0 2016-11-01 06:42:41  131340580  13947748             0   \n",
              "2               0 2016-11-01 06:43:02  131576046  13976722             0   \n",
              "3               0 2016-11-01 06:46:32  129011934  13640610             0   \n",
              "4               0 2016-11-01 06:49:38  129632340  13726450             0   \n",
              "...           ...                 ...        ...       ...           ...   \n",
              "7538911         7 2016-11-07 17:43:48   13277567   1216476             0   \n",
              "7538912      1106 2016-11-28 09:25:22   65800609   6450730            17   \n",
              "7538913         0 2016-11-26 12:31:38  132123626  14038232             3   \n",
              "7538914        27 2016-11-01 00:35:09   70227575   6888863             3   \n",
              "7538915         0 2016-11-01 07:27:36  102400504  10635938             3   \n",
              "\n",
              "         release_date  platform_name  platform_family  media_duration  \\\n",
              "0            20160422              0                2             316   \n",
              "1            20160902              0                2             224   \n",
              "2            20160906              0                2             210   \n",
              "3            20160722              0                2             185   \n",
              "4            20160805              0                2             205   \n",
              "...               ...            ...              ...             ...   \n",
              "7538911      20110819              0                0             184   \n",
              "7538912      20130415              1                0             199   \n",
              "7538913      20160916              1                0             190   \n",
              "7538914      20130909              0                0             270   \n",
              "7538915      20150615              0                0             216   \n",
              "\n",
              "         listen_type  ...  user_listen_frequency  release_year  \\\n",
              "0                  0  ...                   6317          2016   \n",
              "1                  0  ...                   6317          2016   \n",
              "2                  0  ...                   6317          2016   \n",
              "3                  0  ...                   6317          2016   \n",
              "4                  0  ...                   6317          2016   \n",
              "...              ...  ...                    ...           ...   \n",
              "7538911            0  ...                      2          2011   \n",
              "7538912            0  ...                      2          2013   \n",
              "7538913            0  ...                      2          2016   \n",
              "7538914            0  ...                      2          2013   \n",
              "7538915            0  ...                      2          2015   \n",
              "\n",
              "         favorite_artist  recent_trend  release_month season_of_release  \\\n",
              "0                 400934            77              4            Spring   \n",
              "1                 400934            77              9            Autumn   \n",
              "2                 400934            77              9            Autumn   \n",
              "3                 400934            77              7            Summer   \n",
              "4                 400934            77              8            Summer   \n",
              "...                  ...           ...            ...               ...   \n",
              "7538911             6377             7              8            Summer   \n",
              "7538912          4050205          1106              4            Spring   \n",
              "7538913          1519461             0              9            Autumn   \n",
              "7538914            11799            27              9            Autumn   \n",
              "7538915          7912872             0              6            Summer   \n",
              "\n",
              "         album_loyalty  artist_loyalty  artist_album_interaction  day_of_week  \n",
              "0             3.611778        5.237977            13382442833988            1  \n",
              "1             3.611778        5.237977            60407752378992            1  \n",
              "2             3.611778        5.237977               48485248618            1  \n",
              "3             3.611778        5.237977             3848261611980            1  \n",
              "4             3.611778        5.237977             6626553549100            1  \n",
              "...                ...             ...                       ...          ...  \n",
              "7538911       1.000000        1.000000             1802121607728            0  \n",
              "7538912       1.000000        1.000000             7452180029580            0  \n",
              "7538913       2.000000        2.000000            21330546032952            5  \n",
              "7538914       1.000000        2.000000               81281694537            1  \n",
              "7538915       1.000000        1.000000            84160815993936            1  \n",
              "\n",
              "[7538916 rows x 29 columns]"
            ]
          },
          "execution_count": 11,
          "metadata": {},
          "output_type": "execute_result"
        }
      ],
      "source": [
        "# Load the Data\n",
        "\n",
        "# Copy the original DataFrame to a new one\n",
        "\n",
        "new_df = df.copy()\n",
        "\n",
        "# Convert timestamp to datetime\n",
        "new_df['ts_listen'] = pd.to_datetime(new_df['ts_listen'], unit='s')\n",
        "\n",
        "# Outlier\n",
        "print(new_df['release_date'].max()) # 30000101\n",
        "\n",
        "# Locate the final instance preceding 30000101 and substitute the most recent \"plausible\" date preceding this anomalous data entry.\n",
        "print(sorted(list(new_df['release_date'].unique()))[-2]) # 20170313\n",
        "\n",
        "# Age Grouping\n",
        "bins = [0, 18, 25, 35, 50, 100]\n",
        "labels = ['<18', '18-24', '25-34', '35-49', '50+']\n",
        "new_df['age_group'] = pd.cut(new_df['user_age'], bins=bins, labels=labels, right=False)\n",
        "\n",
        "# Artist Popularity\n",
        "artist_popularity = new_df['artist_id'].value_counts().reset_index()\n",
        "artist_popularity.columns = ['artist_id', 'artist_popularity']\n",
        "new_df = new_df.merge(artist_popularity, on='artist_id', how='left')\n",
        "\n",
        "# Album Popularity\n",
        "album_popularity = new_df['album_id'].value_counts().reset_index()\n",
        "album_popularity.columns = ['album_id', 'album_popularity']\n",
        "new_df = new_df.merge(album_popularity, on='album_id', how='left')\n",
        "\n",
        "# Genre Popularity\n",
        "genre_popularity = new_df['genre_id'].value_counts().reset_index()\n",
        "genre_popularity.columns = ['genre_id', 'genre_popularity']\n",
        "new_df = new_df.merge(genre_popularity, on='genre_id', how='left')\n",
        "\n",
        "# User Listening Frequency\n",
        "user_listen_frequency = new_df['user_id'].value_counts().reset_index()\n",
        "user_listen_frequency.columns = ['user_id', 'user_listen_frequency']\n",
        "new_df = new_df.merge(user_listen_frequency, on='user_id', how='left')\n",
        "\n",
        "# Release Year\n",
        "new_df['release_year'] = new_df['release_date'].apply(lambda x: int(str(x)[:4]))\n",
        "\n",
        "# Favorite Artist\n",
        "favorite_artist = new_df.groupby('user_id')['artist_id'].apply(lambda x: x.value_counts().index[0]).reset_index()\n",
        "favorite_artist.columns = ['user_id', 'favorite_artist']\n",
        "new_df = new_df.merge(favorite_artist, on='user_id', how='left')\n",
        "\n",
        "# Recent Trend\n",
        "recent_trend = new_df.sort_values('ts_listen').groupby('user_id')['genre_id'].last().reset_index()\n",
        "recent_trend.columns = ['user_id', 'recent_trend']\n",
        "new_df = new_df.merge(recent_trend, on='user_id', how='left')\n",
        "\n",
        "# Season of Release\n",
        "new_df['release_month'] = new_df['release_date'].apply(lambda x: int(str(x)[4:6]))\n",
        "seasons = {1: 'Winter', 2: 'Winter', 3: 'Spring', 4: 'Spring',\n",
        "            5: 'Spring', 6: 'Summer', 7: 'Summer', 8: 'Summer',\n",
        "            9: 'Autumn', 10: 'Autumn', 11: 'Autumn', 12: 'Winter'}\n",
        "new_df['season_of_release'] = new_df['release_month'].map(seasons)\n",
        "\n",
        "\n",
        "# Album Loyalty\n",
        "album_loyalty = new_df.groupby(['user_id', 'album_id'])['media_id'].count().reset_index()\n",
        "album_loyalty = album_loyalty.groupby('user_id')['media_id'].mean().reset_index()\n",
        "album_loyalty.columns = ['user_id', 'album_loyalty']\n",
        "new_df = new_df.merge(album_loyalty, on='user_id', how='left')\n",
        "\n",
        "# Artist Loyalty\n",
        "artist_loyalty = new_df.groupby(['user_id', 'artist_id'])['media_id'].count().reset_index()\n",
        "artist_loyalty = artist_loyalty.groupby('user_id')['media_id'].mean().reset_index()\n",
        "artist_loyalty.columns = ['user_id', 'artist_loyalty']\n",
        "new_df = new_df.merge(artist_loyalty, on='user_id', how='left')\n",
        "\n",
        "# Assuming columns artist_popularity and album_popularity exist\n",
        "new_df['artist_album_interaction'] = new_df['artist_id'] * new_df['album_id']\n",
        "\n",
        "# Adding temporal features\n",
        "new_df['ts_listen'] = pd.to_datetime(new_df['ts_listen'], unit='s')\n",
        "new_df['day_of_week'] = new_df['ts_listen'].dt.dayofweek\n",
        "\n",
        "# Omitting the first recommended track for each user\n",
        "grouped = new_df.sort_values('ts_listen').groupby('user_id')\n",
        "omitted_tracks = grouped.apply(lambda x: x.iloc[0]).reset_index(drop=True)\n",
        "new_df = grouped.apply(lambda x: x.iloc[1:]).reset_index(drop=True)\n",
        "new_df\n"
      ]
    },
    {
      "cell_type": "code",
      "execution_count": null,
      "id": "4c4fe185",
      "metadata": {
        "id": "4c4fe185"
      },
      "outputs": [],
      "source": []
    },
    {
      "cell_type": "code",
      "execution_count": null,
      "id": "6140b292",
      "metadata": {
        "id": "6140b292"
      },
      "outputs": [],
      "source": []
    },
    {
      "cell_type": "code",
      "execution_count": null,
      "id": "e681a905",
      "metadata": {
        "id": "e681a905"
      },
      "outputs": [],
      "source": []
    },
    {
      "cell_type": "code",
      "execution_count": null,
      "id": "41a2b0ce",
      "metadata": {
        "id": "41a2b0ce"
      },
      "outputs": [],
      "source": []
    },
    {
      "cell_type": "code",
      "execution_count": null,
      "id": "1e9a03c8",
      "metadata": {
        "id": "1e9a03c8"
      },
      "outputs": [],
      "source": []
    },
    {
      "cell_type": "code",
      "execution_count": null,
      "id": "3bec2aa9",
      "metadata": {
        "id": "3bec2aa9"
      },
      "outputs": [],
      "source": []
    }
  ],
  "metadata": {
    "colab": {
      "provenance": []
    },
    "kernelspec": {
      "display_name": "Python 3 (ipykernel)",
      "language": "python",
      "name": "python3"
    },
    "language_info": {
      "codemirror_mode": {
        "name": "ipython",
        "version": 3
      },
      "file_extension": ".py",
      "mimetype": "text/x-python",
      "name": "python",
      "nbconvert_exporter": "python",
      "pygments_lexer": "ipython3",
      "version": "3.11.5"
    }
  },
  "nbformat": 4,
  "nbformat_minor": 5
}